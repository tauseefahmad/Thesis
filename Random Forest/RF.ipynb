{
 "cells": [
  {
   "cell_type": "code",
   "execution_count": null,
   "id": "9bfa647a",
   "metadata": {},
   "outputs": [],
   "source": [
    "import numpy as np\n",
    "import pandas as pd\n",
    "import random\n",
    "import os\n",
    "from itertools import combinations, repeat\n",
    "from pathos.multiprocessing import ProcessingPool as Pool, cpu_count\n",
    "import seaborn as sns\n",
    "import multiprocessing\n",
    "\n",
    "\n",
    "\n",
    "\n",
    "# prepare example dataframes and their features\n",
    "df1 = pd.read_parquet('', engine='auto') # uka data\n",
    "df1"
   ]
  },
  {
   "cell_type": "code",
   "execution_count": null,
   "id": "88a1f40a",
   "metadata": {},
   "outputs": [],
   "source": [
    "df1=df1.rename(columns={'DAP': 'padiastolic'})\n",
    "df1 = df1.reset_index(drop=True)\n",
    "df1=df1.rename(columns={'HF': 'heartrate'})\n",
    "df1 = df1.reset_index(drop=True)\n",
    "df1=df1.rename(columns={'Koerperkerntemperatur': 'temperature'})\n",
    "df1 = df1.reset_index(drop=True)\n",
    "df1=df1.rename(columns={'MAP': 'pamean'})\n",
    "df1 = df1.reset_index(drop=True)\n",
    "df1=df1.rename(columns={'SAP': 'pasystolic'})\n",
    "df1 = df1.reset_index(drop=True)\n",
    "df1=df1.rename(columns={'ZVD': 'cvp'})\n",
    "df1=df1.rename(columns={'Bilirubin_ges.': 'Bilirubin_ges'})\n",
    "df1 = df1.reset_index(drop=True)"
   ]
  },
  {
   "cell_type": "code",
   "execution_count": null,
   "id": "24048ad7",
   "metadata": {},
   "outputs": [],
   "source": [
    "selected_columns = ['PEEP', 'BE_arteriell', 'Bilirubin_ges', 'CK', 'GOT', 'GPT',\n",
    "       'Haemoglobin', 'INR', 'Kreatinin', 'Laktat_arteriell', 'Lipase',\n",
    "       'pH_arteriell', 'pTT', 'paCO2_(ohne_Temp-Korrektur)',\n",
    "       'paO2_(ohne_Temp-Korrektur)', 'CK-MB', 'respiration',\n",
    "    'Compliance', 'padiastolic', 'FiO2',\n",
    "       'heartrate', 'temperature', 'pamean', 'pasystolic', 'SaO2'\n",
    "        , 'cvp', 'etCO2', 'Albumin','Troponin','CRP','Amylase','BNP','ARDS']\n",
    "df1 = df1[selected_columns]"
   ]
  },
  {
   "cell_type": "code",
   "execution_count": null,
   "id": "84c88cda",
   "metadata": {},
   "outputs": [],
   "source": [
    "df2 = pd.read_parquet('', engine='auto') # eICU data"
   ]
  },
  {
   "cell_type": "code",
   "execution_count": null,
   "id": "d915a2ce",
   "metadata": {},
   "outputs": [],
   "source": [
    "selected_columns = ['PEEP', 'BE_arteriell', 'Bilirubin_ges', 'CK', 'GOT', 'GPT',\n",
    "       'Haemoglobin', 'INR', 'Kreatinin', 'Laktat_arteriell', 'Lipase',\n",
    "       'pH_arteriell', 'pTT', 'paCO2_(ohne_Temp-Korrektur)',\n",
    "       'paO2_(ohne_Temp-Korrektur)', 'CK-MB', 'respiration',\n",
    "    'Compliance', 'padiastolic', 'FiO2',\n",
    "       'heartrate', 'temperature', 'pamean', 'pasystolic', 'SaO2'\n",
    "        , 'cvp', 'etCO2', 'Albumin','Troponin','CRP','Amylase','BNP','ARDS']\n",
    "df2 = df2[selected_columns]"
   ]
  },
  {
   "cell_type": "code",
   "execution_count": null,
   "id": "b28a9cf7",
   "metadata": {},
   "outputs": [],
   "source": [
    "\n",
    "column_full=pd.concat([df1, df2], ignore_index=True)\n",
    "\n",
    "shuffled_df = column_full.sample(frac=1).reset_index(drop=True)\n",
    "\n",
    "shuffled_df.to_parquet('') # save file"
   ]
  },
  {
   "cell_type": "code",
   "execution_count": null,
   "id": "4e0007c7",
   "metadata": {},
   "outputs": [],
   "source": []
  }
 ],
 "metadata": {
  "kernelspec": {
   "display_name": "Python 3 (ipykernel)",
   "language": "python",
   "name": "python3"
  },
  "language_info": {
   "codemirror_mode": {
    "name": "ipython",
    "version": 3
   },
   "file_extension": ".py",
   "mimetype": "text/x-python",
   "name": "python",
   "nbconvert_exporter": "python",
   "pygments_lexer": "ipython3",
   "version": "3.9.13"
  }
 },
 "nbformat": 4,
 "nbformat_minor": 5
}
