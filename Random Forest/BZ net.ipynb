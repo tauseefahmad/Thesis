{
 "cells": [
  {
   "cell_type": "code",
   "execution_count": null,
   "id": "fd608767",
   "metadata": {},
   "outputs": [],
   "source": [
    "def read_vars_file(file_path):\n",
    "    with open(file_path, 'r') as f:\n",
    "        line = f.readline().strip()  # Assuming only one line containing column names\n",
    "        columns = line.split()\n",
    "    return columns\n",
    "\n",
    "# Usage:\n",
    "column_names_eICU = read_vars_file('') # eICU variables"
   ]
  },
  {
   "cell_type": "code",
   "execution_count": null,
   "id": "97dc44f1",
   "metadata": {},
   "outputs": [],
   "source": [
    "def read_vars_file(file_path):\n",
    "    with open(file_path, 'r') as f:\n",
    "        line = f.readline().strip()  # Assuming only one line containing column names\n",
    "        columns = line.split()\n",
    "    return columns\n",
    "\n",
    "# Usage:\n",
    "column_names_uka = read_vars_file('') # uka variables"
   ]
  },
  {
   "cell_type": "code",
   "execution_count": null,
   "id": "2e9639bf",
   "metadata": {},
   "outputs": [],
   "source": [
    "common_params = sorted(list(set(column_names_uka).intersection(column_names_eICU)))"
   ]
  },
  {
   "cell_type": "code",
   "execution_count": null,
   "id": "79516331",
   "metadata": {},
   "outputs": [],
   "source": [
    "sorted_values = sorted(common_params, key=lambda x: column_names_uka.index(x))\n",
    "print(sorted_values)  \n",
    "\n",
    "positions = [column_names_uka.index(value) for value in sorted_values]"
   ]
  },
  {
   "cell_type": "code",
   "execution_count": null,
   "id": "dff6a095",
   "metadata": {},
   "outputs": [],
   "source": [
    "positions_eicu = [column_names_eICU.index(value) for value in sorted_values]"
   ]
  },
  {
   "cell_type": "code",
   "execution_count": null,
   "id": "f6234d29",
   "metadata": {},
   "outputs": [],
   "source": [
    "import numpy as np\n",
    "\n",
    "# Load the array from .npy file\n",
    "data = np.load('') #eICU data\n",
    "\n",
    "print(data)\n",
    "\n",
    "# Get rows where all specified columns are not nan\n",
    "filtered_data_onlycommoncol_eicu = data[~np.all(np.isnan(data[:, positions_eicu]), axis=1)]"
   ]
  },
  {
   "cell_type": "code",
   "execution_count": null,
   "id": "da2b0a32",
   "metadata": {},
   "outputs": [],
   "source": [
    "selected_columns_onlycommoncol_eicu = filtered_data_onlycommoncol_eicu[:, positions_eicu]"
   ]
  },
  {
   "cell_type": "code",
   "execution_count": null,
   "id": "08d0f149",
   "metadata": {},
   "outputs": [],
   "source": [
    "sorted_values = sorted(common_params, key=lambda x: column_names_uka.index(x))\n",
    "print(sorted_values)  \n",
    "\n",
    "positions = [column_names_uka.index(value) for value in sorted_values]"
   ]
  },
  {
   "cell_type": "code",
   "execution_count": null,
   "id": "2932c59b",
   "metadata": {},
   "outputs": [],
   "source": [
    "positions_eicu = [column_names_eICU.index(value) for value in sorted_values]"
   ]
  },
  {
   "cell_type": "code",
   "execution_count": null,
   "id": "69896777",
   "metadata": {},
   "outputs": [],
   "source": [
    "import numpy as np\n",
    "\n",
    "# Load the array from .npy file\n",
    "data = np.load('') # uka data file\n",
    "\n",
    "print(data)\n",
    "\n",
    "# Get rows where all specified columns are not nan\n",
    "filtered_data_onlycommoncol_eicu = data[~np.all(np.isnan(data[:, positions_eicu]), axis=1)]"
   ]
  },
  {
   "cell_type": "code",
   "execution_count": null,
   "id": "51af402a",
   "metadata": {},
   "outputs": [],
   "source": [
    "# Suppose you want to select columns 0, 2, and 4\n",
    "selected_columns_onlycommoncol_eicu = filtered_data_onlycommoncol_eicu[:, positions_eicu]\n"
   ]
  },
  {
   "cell_type": "code",
   "execution_count": null,
   "id": "7ba113bd",
   "metadata": {},
   "outputs": [],
   "source": [
    "import numpy as np\n",
    "\n",
    "\n",
    "# Create an array with shape (rows, columns) filled with NaN values\n",
    "new_array = np.full((, ),  np.nan)"
   ]
  },
  {
   "cell_type": "code",
   "execution_count": null,
   "id": "19d81d3b",
   "metadata": {},
   "outputs": [],
   "source": [
    "i=0\n",
    "for i in range(33):  # This will loop from 0 to 33\n",
    "    new_array[:, positions[i]] = selected_columns_onlycommoncol_eicu[:, i]\n",
    "    print(i)"
   ]
  },
  {
   "cell_type": "code",
   "execution_count": null,
   "id": "64351648",
   "metadata": {},
   "outputs": [],
   "source": [
    "import numpy as np\n",
    "\n",
    "# Load the array from .npy file\n",
    "data_uka = np.load('') "
   ]
  },
  {
   "cell_type": "code",
   "execution_count": null,
   "id": "e8038cf6",
   "metadata": {},
   "outputs": [],
   "source": [
    "combined_array = np.vstack((data_uka, new_array))"
   ]
  },
  {
   "cell_type": "code",
   "execution_count": null,
   "id": "5655835c",
   "metadata": {},
   "outputs": [],
   "source": [
    "np.save('', combined_array) # set the name of the file"
   ]
  },
  {
   "cell_type": "code",
   "execution_count": null,
   "id": "bc47c447",
   "metadata": {},
   "outputs": [],
   "source": []
  },
  {
   "cell_type": "code",
   "execution_count": null,
   "id": "3c1f7869",
   "metadata": {},
   "outputs": [],
   "source": []
  },
  {
   "cell_type": "code",
   "execution_count": null,
   "id": "c103c106",
   "metadata": {},
   "outputs": [],
   "source": []
  }
 ],
 "metadata": {
  "kernelspec": {
   "display_name": "Python 3 (ipykernel)",
   "language": "python",
   "name": "python3"
  },
  "language_info": {
   "codemirror_mode": {
    "name": "ipython",
    "version": 3
   },
   "file_extension": ".py",
   "mimetype": "text/x-python",
   "name": "python",
   "nbconvert_exporter": "python",
   "pygments_lexer": "ipython3",
   "version": "3.9.13"
  }
 },
 "nbformat": 4,
 "nbformat_minor": 5
}
